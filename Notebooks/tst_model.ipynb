{
 "cells": [
  {
   "cell_type": "code",
   "execution_count": 18,
   "id": "204b4148",
   "metadata": {},
   "outputs": [],
   "source": [
    "import joblib\n",
    "load_model = joblib.load('../Results/model.pkl')"
   ]
  },
  {
   "cell_type": "code",
   "execution_count": null,
   "id": "fbdd844b",
   "metadata": {},
   "outputs": [
    {
     "name": "stdout",
     "output_type": "stream",
     "text": [
      "Predicted Price: 3064.47\n"
     ]
    }
   ],
   "source": [
    "new_data = pd.DataFrame({\n",
    "    'resolution': [5.5],\n",
    "    'ppi': [400],\n",
    "    'cpu_core': [8],\n",
    "    'cpu_freq': [2.0],\n",
    "    'internal_mem': [32],\n",
    "    'ram': [4],\n",
    "    'rear_cam': [13],\n",
    "    'front_cam': [8],\n",
    "    'battery': [3000]\n",
    "})\n",
    "\n",
    "loaded_model = joblib.load('../Results/model.pkl')\n",
    "\n",
    "pred_price = loaded_model.predict(new_data)\n",
    "print(f\"Predicted Price: {pred_price[0]:.2f}\")\n"
   ]
  }
 ],
 "metadata": {
  "kernelspec": {
   "display_name": "base",
   "language": "python",
   "name": "python3"
  },
  "language_info": {
   "codemirror_mode": {
    "name": "ipython",
    "version": 3
   },
   "file_extension": ".py",
   "mimetype": "text/x-python",
   "name": "python",
   "nbconvert_exporter": "python",
   "pygments_lexer": "ipython3",
   "version": "3.12.3"
  }
 },
 "nbformat": 4,
 "nbformat_minor": 5
}
